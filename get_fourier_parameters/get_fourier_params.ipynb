{
 "cells": [
  {
   "cell_type": "markdown",
   "metadata": {},
   "source": [
    "# The code"
   ]
  },
  {
   "cell_type": "code",
   "execution_count": 1,
   "metadata": {},
   "outputs": [],
   "source": [
    "import numpy as np\n",
    "from astropy.timeseries import LombScargle\n",
    "import matplotlib.pyplot as plt\n",
    "from scipy.optimize import curve_fit\n",
    "from warnings import warn\n",
    "from uncertainties import ufloat\n",
    "import multiprocessing\n",
    "#from tqdm.notebook import tqdm\n",
    "\n",
    "class FourierFitter():        \n",
    "    def func(self, time, amp, best_freq, phase, kind='sin'):\n",
    "        # sin or cos funtion to be fitted\n",
    "        if kind=='sin':\n",
    "            y = amp*np.sin(2*np.pi*best_freq*time + phase )\n",
    "        elif kind=='cos':\n",
    "            y = amp*np.cos(2*np.pi*best_freq*time + phase )\n",
    "        else:\n",
    "            raise TypeError('%s format does not exist. Select \\'sin\\' or \\'cos\\'.' % str(kind))\n",
    "        return y\n",
    "\n",
    "    def fit_all(self, *arg):\n",
    "        # fit all periodic components at the same time\n",
    "        time = arg[0]\n",
    "        best_freq = arg[1]\n",
    "        nparams = (len(arg)-2)//2\n",
    "        amps = arg[2:2+nparams]\n",
    "        phases = arg[2+nparams:-1]\n",
    "        kind = arg[-1]\n",
    "        y = 0\n",
    "        for i in range(len(amps)):\n",
    "            y += self.func(time, amps[i], (i+1)*best_freq, phases[i],kind=kind)\n",
    "        return y\n",
    "\n",
    "    def bootstrap(self,seed):\n",
    "        np.random.seed(seed)\n",
    "        tmp_lc = self.lc[np.random.choice( self.lc.shape[0], int(len(self.lc)*self.sample_size), replace=False), :]\n",
    "        if self.error is None: \n",
    "            tmp_pfit, _ = curve_fit(lambda *args: self.fit_all(*args, self.kind), tmp_lc[:,0], tmp_lc[:,1], p0=(self.freqs[0], *self.amps, *self.phases), maxfev=5000)\n",
    "        else:\n",
    "            tmp_pfit, _ = curve_fit(lambda *args: self.fit_all(*args, self.kind), tmp_lc[:,0], tmp_lc[:,1], p0=(self.freqs[0], *self.amps, *self.phases) , \n",
    "                              sigma=tmp_lc[:,2], absolute_sigma=self.absolute_sigma, maxfev=5000)\n",
    "        \n",
    "        return tmp_pfit\n",
    "\n",
    "    def fit_freqs(self, t, y, error=None,\n",
    "                  absolute_sigma=True,\n",
    "                  nfreq = 3,plotting = False,\n",
    "                  minimum_frequency=None,maximum_frequency=None,\n",
    "                  nyquist_factor=1,samples_per_peak=10,\n",
    "                  bootstrap=False,ntry=100,sample_size=0.9,\n",
    "                  refit=False,\n",
    "                  kind='sin',\n",
    "                  parallel=False, ncores=-1):\n",
    "        \n",
    "        self.t = t\n",
    "        self.y = y\n",
    "        self.error = error\n",
    "        self.sample_size = sample_size\n",
    "        self.kind = kind\n",
    "        self.absolute_sigma = absolute_sigma\n",
    "\n",
    "        if minimum_frequency is not None and maximum_frequency is not None:\n",
    "            if minimum_frequency > maximum_frequency:\n",
    "                raise ValueError('Minimum frequency is larger than maximum frequency.')\n",
    "\n",
    "        if nfreq<1:\n",
    "            raise ValueError('Number of frequencies must be >1.')\n",
    "\n",
    "        # fit periodic funtions and do prewhitening\n",
    "        yres = self.y.copy()\n",
    "\n",
    "        self.freqs = []\n",
    "        self.amps = []\n",
    "        self.phases = []\n",
    "        self.freqserr = []\n",
    "        self.ampserr = []\n",
    "        self.phaseserr = []  \n",
    "\n",
    "        for i in range(nfreq):\n",
    "            if i == 0:\n",
    "                ls = LombScargle(self.t, yres, nterms=1)\n",
    "                freq, power = ls.autopower(normalization='psd',\n",
    "                                           minimum_frequency=minimum_frequency,\n",
    "                                           maximum_frequency=maximum_frequency,\n",
    "                                           samples_per_peak=samples_per_peak,\n",
    "                                           nyquist_factor=nyquist_factor)\n",
    "\n",
    "                # get first spectrum and fit first periodic component\n",
    "                try:\n",
    "                    best_freq = freq[power.argmax()]\n",
    "\n",
    "                    pfit1, pcov1 = curve_fit(lambda time, amp, phase: self.func(time, amp, best_freq, phase ,kind=kind), self.t, yres-np.mean(yres),\n",
    "                                          p0=(np.ptp(yres)/4,2.), bounds=(0, [np.ptp(yres), 2*np.pi]) , \n",
    "                                          sigma=self.error, absolute_sigma=absolute_sigma, maxfev=5000)\n",
    "                    pfit2, pcov2 = curve_fit(lambda time, amp, phase: self.func(time, amp, best_freq, phase ,kind=kind), self.t, yres-np.mean(yres),\n",
    "                                          p0=(np.ptp(yres)/4,5.), bounds=(0, [np.ptp(yres), 2*np.pi]) , \n",
    "                                          sigma=self.error, absolute_sigma=absolute_sigma, maxfev=5000)\n",
    "\n",
    "                    chi2_1 = np.sum( (yres-np.mean(yres) - self.func(self.t, pfit1[0], best_freq, pfit1[1] ,kind=kind))**2 )\n",
    "                    chi2_2 = np.sum( (yres-np.mean(yres) - self.func(self.t, pfit2[0], best_freq, pfit2[1] ,kind=kind))**2 )\n",
    "\n",
    "                    if chi2_1 < chi2_2:\n",
    "                        pfit = pfit1\n",
    "                    else:\n",
    "                        pfit = pfit2\n",
    "\n",
    "                    pfit, pcov = curve_fit(lambda time, amp, freq, phase: self.func(time, amp, freq, phase, kind=kind), self.t, yres-np.mean(yres),\n",
    "                                          p0=(pfit[0],best_freq,pfit[1]), bounds=(0, [np.ptp(yres), 2*best_freq, 2*np.pi]) , \n",
    "                                          sigma=self.error, absolute_sigma=absolute_sigma, maxfev=5000)\n",
    "\n",
    "                    best_freq = pfit[1]\n",
    "\n",
    "                except (RuntimeError,ValueError) as e:\n",
    "                    self.pfit = self.perr = [np.nan]*(nfreq*2+1)\n",
    "                    return self.pfit, self.perr\n",
    "\n",
    "            else:\n",
    "                # get ith spectrum and fit ith periodic component\n",
    "                pfit1, pcov1 = curve_fit(lambda time, amp, phase: self.func(time, amp, (i+1)*best_freq, phase, kind=kind), self.t, yres-np.mean(yres),\n",
    "                                          p0=(np.ptp(yres)/4,2.), bounds=(0, [np.ptp(yres), 2*np.pi]) , \n",
    "                                          sigma=self.error, absolute_sigma=absolute_sigma, maxfev=5000)\n",
    "                pfit2, pcov2 = curve_fit(lambda time, amp, phase: self.func(time, amp, (i+1)*best_freq, phase, kind=kind), self.t, yres-np.mean(yres),\n",
    "                                          p0=(np.ptp(yres)/4,5.), bounds=(0, [np.ptp(yres), 2*np.pi]) , \n",
    "                                          sigma=self.error, absolute_sigma=absolute_sigma, maxfev=5000)\n",
    "\n",
    "                chi2_1 = np.sum( (yres-np.mean(yres) - self.func(self.t, pfit1[0], (i+1)*best_freq, pfit1[1], kind=kind ))**2 )\n",
    "                chi2_2 = np.sum( (yres-np.mean(yres) - self.func(self.t, pfit2[0], (i+1)*best_freq, pfit2[1], kind=kind ))**2 )\n",
    "\n",
    "                if chi2_1 < chi2_2:\n",
    "                    pfit = pfit1\n",
    "                    pcov = pcov1\n",
    "                else:\n",
    "                    pfit = pfit2\n",
    "                    pcov = pcov2\n",
    "\n",
    "            if plotting:\n",
    "                # plot phased light curve and fit\n",
    "                if i==0:\n",
    "                    per = 1/pfit[1]\n",
    "                else:\n",
    "                    per = 1/( (i+1)*best_freq )\n",
    "                    \n",
    "                    # Calculate spectrum for plotting\n",
    "                    ls = LombScargle(self.t, yres, nterms=1)\n",
    "                    if minimum_frequency is None and maximum_frequency is None:\n",
    "                        freq, power = ls.autopower(normalization='psd',\n",
    "                                                   minimum_frequency=minimum_frequency,\n",
    "                                                   maximum_frequency=maximum_frequency,\n",
    "                                                   samples_per_peak=samples_per_peak,\n",
    "                                                   nyquist_factor=nyquist_factor)\n",
    "                    else:\n",
    "                        freq, power = ls.autopower(normalization='psd',\n",
    "                                                   samples_per_peak=samples_per_peak,\n",
    "                                                   nyquist_factor=nyquist_factor)\n",
    "                plt.figure(figsize=(15,3))\n",
    "                plt.subplot(121)\n",
    "                plt.plot(freq, power)\n",
    "                plt.xlabel('Frequency (c/d)')\n",
    "                plt.ylabel('LS power')\n",
    "                plt.grid()\n",
    "                plt.subplot(122)\n",
    "                plt.plot(self.t%per/per,yres-yres.mean(),'k.')\n",
    "                plt.plot(self.t%per/per+1,yres-yres.mean(),'k.')\n",
    "                if i == 0:\n",
    "                    plt.plot(self.t%per/per,self.func(self.t,pfit[0],pfit[1],pfit[2], kind=kind),'C1.',ms=1)\n",
    "                    plt.plot(self.t%per/per+1,self.func(self.t,pfit[0],pfit[1],pfit[2], kind=kind),'C1.',ms=1)\n",
    "                else:\n",
    "                    plt.plot(self.t%per/per,self.func(self.t,pfit[0],(i+1)*best_freq,pfit[1], kind=kind),'C1.',ms=1)\n",
    "                    plt.plot(self.t%per/per+1,self.func(self.t,pfit[0],(i+1)*best_freq,pfit[1], kind=kind),'C1.',ms=1)\n",
    "                plt.xlabel('Phase)')\n",
    "                plt.ylabel('Brightness')\n",
    "                plt.show()\n",
    "\n",
    "            if i==0:\n",
    "                # start to collect results\n",
    "                self.freqs.append( pfit[1] )\n",
    "                self.amps.append( pfit[0] )\n",
    "                self.phases.append( pfit[2] )\n",
    "\n",
    "                pcov = np.sqrt(np.diag(pcov))\n",
    "                self.freqserr.append( pcov[1] )\n",
    "                self.ampserr.append( pcov[0] )\n",
    "                self.phaseserr.append( pcov[2] )\n",
    "\n",
    "                yres -= self.func(self.t,pfit[0],pfit[1],pfit[2], kind=kind)\n",
    "            else:\n",
    "                # collect ith results\n",
    "                self.freqs.append( (i+1)*best_freq )\n",
    "                self.amps.append( pfit[0] )\n",
    "                self.phases.append( pfit[1] )\n",
    "\n",
    "                pcov = np.sqrt(np.diag(pcov))\n",
    "                self.freqserr.append( self.freqserr[0] )\n",
    "                self.ampserr.append( pcov[0] )\n",
    "                self.phaseserr.append( pcov[1] )\n",
    "\n",
    "                yres -= self.func(self.t,pfit[0],(i+1)*best_freq,pfit[1], kind=kind)\n",
    "\n",
    "        try: \n",
    "            # fit all periodic components at the same time\n",
    "            pfit, pcov = curve_fit(lambda *args: self.fit_all(*args, kind), self.t, self.y-np.mean(self.y),p0=(self.freqs[0], *self.amps, *self.phases) , \n",
    "                                    sigma=self.error, absolute_sigma=absolute_sigma, maxfev=5000)\n",
    "            \n",
    "            # if any of the errors is inf, shift light curve by period/2 and get new errors\n",
    "            if not bootstrap and np.any(np.isinf(pcov)):\n",
    "                warn('One of the errors is inf! Shifting light curve by half period to calculate errors...')\n",
    "                _, pcov = curve_fit(lambda *args: self.fit_all(*args, kind), self.t + 0.5/pfit[0], self.y-np.mean(self.y),p0=(self.freqs[0], *self.amps, *[(pha+np.pi)%(2*np.pi) for pha in self.phases]) , \n",
    "                                    sigma=self.error, absolute_sigma=absolute_sigma, maxfev=5000)\n",
    "\n",
    "            if bootstrap and refit is False:\n",
    "                # use bootstrap to get realistic errors (bootstrap = get subsample and redo fit n times)\n",
    "                if self.error is None: self.lc = np.c_[self.t, self.y-np.mean(self.y)]\n",
    "                else:                  self.lc = np.c_[self.t, self.y-np.mean(self.y), self.error]\n",
    "\n",
    "                bootstrap_fit = np.empty( (ntry,len(pfit)) )\n",
    "                seeds = np.random.randint(1e09,size=ntry)\n",
    "                if parallel:\n",
    "                    # do bootstrap fit parallal\n",
    "                    available_ncores = multiprocessing.cpu_count()\n",
    "                    if ncores <= -1:\n",
    "                        ncores = available_ncores\n",
    "                    elif available_ncores<ncores:\n",
    "                        ncores = available_ncores\n",
    "                    with multiprocessing.Pool(processes=ncores) as p:\n",
    "                        #with tqdm(total=ntry) as pbar:\n",
    "                        for i,result in enumerate(p.imap_unordered(self.bootstrap,seeds)):\n",
    "                            # Save result\n",
    "                            bootstrap_fit[i,:] = result\n",
    "                            #pbar.update()\n",
    "                else:\n",
    "                    for i,seed in enumerate(seeds):\n",
    "                        bootstrap_fit[i,:] = self.bootstrap(seed)\n",
    "\n",
    "                #meanval = np.nanmean(bootstrap_fit,axis=0)\n",
    "                perr = np.nanstd(bootstrap_fit,axis=0)\n",
    "\n",
    "                if np.any(perr == 0.0):\n",
    "                    # if any of the errors is 0, shift light curve by period/2 and get new errors\n",
    "                    warn('One of the errors is too small! Shifting light curve by half period to calculate errors...')\n",
    "\n",
    "                    _,newperr = self.fit_freqs(self.t + 0.5/pfit[0], self.y-np.mean(self.y), nfreq = nfreq,plotting = False,\n",
    "                                  minimum_frequency=minimum_frequency,maximum_frequency=maximum_frequency,\n",
    "                                  nyquist_factor=nyquist_factor,samples_per_peak=samples_per_peak,\n",
    "                                  bootstrap=True,ntry=ntry,sample_size=self.sample_size,\n",
    "                                  refit=True)\n",
    "\n",
    "                    um = np.where( perr==0.0 )[0]\n",
    "                    perr[um] = np.copy(newperr[um])\n",
    "                    self.pfit = pfit\n",
    "                    self.perr = perr\n",
    "                    return self.pfit, self.perr\n",
    "\n",
    "                self.pfit = pfit\n",
    "                self.perr = perr\n",
    "                return self.pfit, self.perr\n",
    "\n",
    "            elif bootstrap and refit:\n",
    "                # get new errors for shifted light curve\n",
    "                if self.error is None: lc = np.c_[self.t, self.y-np.mean(y)]\n",
    "                else:                  lc = np.c_[self.t, self.y-np.mean(y), self.error]\n",
    "\n",
    "                bootstrap_fit = np.empty( (ntry,len(pfit)) )\n",
    "                seeds = np.random.randint(1e09,size=ntry)\n",
    "                if parallel:\n",
    "                    # do bootstrap fit parallal\n",
    "                    available_ncores = multiprocessing.cpu_count()\n",
    "                    if ncores <= -1:\n",
    "                        ncores = available_ncores\n",
    "                    elif available_ncores<ncores:\n",
    "                        ncores = available_ncores\n",
    "                    with multiprocessing.Pool(processes=ncores) as p:\n",
    "                        #with tqdm(total=ntry) as pbar:\n",
    "                        for i,result in enumerate(p.imap_unordered(self.bootstrap,seeds)):\n",
    "                            # Save result\n",
    "                            bootstrap_fit[i,:] = result\n",
    "                            #pbar.update()\n",
    "                else:\n",
    "                    for i,seed in enumerate(seeds):\n",
    "                        bootstrap_fit[i,:] = self.bootstrap(seed)\n",
    "\n",
    "                #meanval = np.nanmean(bootstrap_fit,axis=0)\n",
    "                newperr = np.nanstd(bootstrap_fit,axis=0)\n",
    "\n",
    "                self.pfit = pfit\n",
    "                self.perr = newperr\n",
    "                return self.pfit, self.perr\n",
    "\n",
    "            self.pfit = pfit\n",
    "            self.perr = np.sqrt(np.diag(pcov))\n",
    "            return self.pfit, self.perr\n",
    "\n",
    "        except RuntimeError:\n",
    "            # if fit all components at once fails return previous results, and errors from covariance matrix\n",
    "            if bootstrap:\n",
    "                warn('BootStrap not used!')\n",
    "\n",
    "            self.pfit = [self.freqs[0], *self.amps, *self.phases]\n",
    "            self.perr = [self.freqserr[0], *self.ampserr, *self.phaseserr]\n",
    "            return self.pfit, self.perr\n",
    "\n",
    "    def get_fourier_parameters(self):\n",
    "        # Fourier params\n",
    "        if np.all(np.isnan(self.pfit)) or len(self.pfit)<6: raise ValueError('Not enough components to get Fourier parameters!') \n",
    "\n",
    "        freq = ufloat(self.pfit[0],self.perr[0])\n",
    "        period = 1/freq\n",
    "        R21 = ufloat(self.pfit[2],self.perr[2]) / ufloat(self.pfit[1],self.perr[1])\n",
    "        R31 = ufloat(self.pfit[3],self.perr[3]) / ufloat(self.pfit[1],self.perr[1])\n",
    "        P21 = ( ufloat(self.pfit[nfreq+2],self.perr[nfreq+2] )- 2* ufloat(self.pfit[nfreq+1],self.perr[nfreq+1]) )%(2*np.pi)\n",
    "        P31 = ( ufloat(self.pfit[nfreq+3],self.perr[nfreq+3] )- 3* ufloat(self.pfit[nfreq+1],self.perr[nfreq+1]) )%(2*np.pi)\n",
    "\n",
    "        return freq,period,P21,P31,R21,R31"
   ]
  },
  {
   "cell_type": "markdown",
   "metadata": {},
   "source": [
    "# Important notes\n",
    "\n",
    "- The Fourier series fit can be done via two ways. Fitting $sine$ or $cosine$ functions:\n",
    "\n",
    "$$ \\sum_i A_i sin( 2\\pi f_i t + \\phi_i ) + constant $$,\n",
    "\n",
    "$$ \\sum_i A_i cos( 2\\pi f_i t + \\phi_i ) + constant $$\n",
    "\n",
    "where $A_i$ is the semi-amplitude, $f_i$ is the frequency and $\\phi_i$ is the phase of the given component. The _constant_ is the mean of the light curve.\n",
    "\n",
    "This is __optional in the code__. Use the keyword kind='sin' or kind='cos' to select one. The default is sine.\n",
    "\n",
    "- After the fitting of ___at least___ 3 frequencies the Fourier parameters are calculated as\n",
    "\n",
    "$$ R_{21} = \\frac{A_2}{A_1} $$,\n",
    "$$ R_{31} = \\frac{A_3}{A_1} $$,\n",
    "$$ \\phi_{21} = \\phi_2 - 2 \\phi_1 $$,\n",
    "$$ \\phi_{31} = \\phi_3 - 3 \\phi_1 $$\n",
    "\n",
    "which values __depend on__ the ___chosen function (sine or cosine)___, the ___physical units (flux or mag)___ and the passband.\n",
    "\n",
    "- __The code first finds the frequency with the highest peak in the spectrum__ and after that does a consequtive pre-whitening with the integer multiples of that frequency. Thus, if we want to calculate the Fourier parameters of e.g. the second overtone, we have put constraints on the frequency range to be checked a.k.a. set _minimum_frequency_ and _maximum_frequency_."
   ]
  },
  {
   "cell_type": "markdown",
   "metadata": {},
   "source": [
    "# Load example lc"
   ]
  },
  {
   "cell_type": "code",
   "execution_count": 2,
   "metadata": {},
   "outputs": [
    {
     "name": "stderr",
     "output_type": "stream",
     "text": [
      "/Users/batty/opt/miniconda3/lib/python3.7/site-packages/lightkurve/lightcurvefile.py:47: LightkurveWarning: `LightCurveFile.header` is deprecated, please use `LightCurveFile.get_header()` instead.\n",
      "  LightkurveWarning)\n"
     ]
    }
   ],
   "source": [
    "import lightkurve as lk\n",
    "\n",
    "lc = lk.search_lightcurvefile('RR Lyr',quarter=1).download_all()\n",
    "lc = lc.PDCSAP_FLUX.stitch().remove_outliers().remove_nans()\n",
    "\n",
    "t = lc.time\n",
    "y = lc.flux\n",
    "yerr = lc.flux_err"
   ]
  },
  {
   "cell_type": "markdown",
   "metadata": {},
   "source": [
    "### Prewhitening w/ given number of freqs w/out y errors"
   ]
  },
  {
   "cell_type": "code",
   "execution_count": 3,
   "metadata": {},
   "outputs": [],
   "source": [
    "# Initialize fitter\n",
    "fitter = FourierFitter()"
   ]
  },
  {
   "cell_type": "code",
   "execution_count": 4,
   "metadata": {},
   "outputs": [
    {
     "name": "stdout",
     "output_type": "stream",
     "text": [
      "CPU times: user 58 ms, sys: 5.98 ms, total: 64 ms\n",
      "Wall time: 63.5 ms\n"
     ]
    },
    {
     "name": "stderr",
     "output_type": "stream",
     "text": [
      "/Users/batty/opt/miniconda3/lib/python3.7/site-packages/scipy/optimize/minpack.py:808: OptimizeWarning: Covariance of the parameters could not be estimated\n",
      "  category=OptimizeWarning)\n",
      "/Users/batty/opt/miniconda3/lib/python3.7/site-packages/ipykernel_launcher.py:206: UserWarning: One of the errors is inf! Shifting light curve by half period to calculate errors...\n"
     ]
    }
   ],
   "source": [
    "%%time\n",
    "# Do the Fourier calculation and fitting w/out bootstrap error estimation\n",
    "nfreq = 3\n",
    "pfit,err = fitter.fit_freqs( t,y,\n",
    "                             nfreq = nfreq,\n",
    "                             plotting = False,\n",
    "                             minimum_frequency=None,\n",
    "                             maximum_frequency=None,\n",
    "                             nyquist_factor=1,\n",
    "                             samples_per_peak=10,\n",
    "                             bootstrap=False,ntry=100,sample_size=0.9, parallel=False,ncores=-1,\n",
    "                             kind='sin' )"
   ]
  },
  {
   "cell_type": "code",
   "execution_count": 5,
   "metadata": {},
   "outputs": [
    {
     "name": "stderr",
     "output_type": "stream",
     "text": [
      "/Users/batty/opt/miniconda3/lib/python3.7/site-packages/ipykernel_launcher.py:239: UserWarning: One of the errors is too small! Shifting light curve by half period to calculate errors...\n"
     ]
    },
    {
     "name": "stdout",
     "output_type": "stream",
     "text": [
      "CPU times: user 1.21 s, sys: 12.9 ms, total: 1.23 s\n",
      "Wall time: 1.23 s\n"
     ]
    }
   ],
   "source": [
    "%%time\n",
    "# Do the Fourier calculation and fitting w/ bootstrap error estimation\n",
    "nfreq = 3\n",
    "pfit,err = fitter.fit_freqs( t,y,\n",
    "                             nfreq = nfreq,\n",
    "                             plotting = False,\n",
    "                             minimum_frequency=None,\n",
    "                             maximum_frequency=None,\n",
    "                             nyquist_factor=1,\n",
    "                             samples_per_peak=10,\n",
    "                             bootstrap=True,ntry=100,sample_size=0.9, parallel=False,ncores=-1,\n",
    "                             kind='sin' )"
   ]
  },
  {
   "cell_type": "code",
   "execution_count": 6,
   "metadata": {},
   "outputs": [
    {
     "name": "stdout",
     "output_type": "stream",
     "text": [
      "freq =  1.7620050802180858 3.16011977645509e-06\n",
      "A1   =  0.23895433654455855 0.0008749662761176192\n",
      "Phi1 =  1.468292094353512e-14 0.044704741306594506\n",
      "A2   =  0.11233229505865212 0.000823245408681789\n",
      "Phi2 =  5.534468112054411 0.0054518024061675835\n",
      "A3   =  0.06504536995316558 0.0008889122397706844\n",
      "Phi3 =  5.006085365590188 0.012983224810235198\n"
     ]
    }
   ],
   "source": [
    "# Print results\n",
    "\n",
    "print('freq = ', pfit[0], err[0])\n",
    "\n",
    "ncomponents = int((len(pfit)-1)/2)\n",
    "for i in range(1, ncomponents + 1 ):\n",
    "    print('A%d   = ' % i,   pfit[i],             err[i])\n",
    "    print('Phi%d = ' % i,   pfit[i+ncomponents], err[i+ncomponents])"
   ]
  },
  {
   "cell_type": "markdown",
   "metadata": {},
   "source": [
    "#### Calculate Fourier parameters"
   ]
  },
  {
   "cell_type": "code",
   "execution_count": 7,
   "metadata": {},
   "outputs": [
    {
     "name": "stdout",
     "output_type": "stream",
     "text": [
      "freq =  1.7620050802180858 3.16011977645509e-06\n",
      "period =  0.5675352535738595 1.0178627739440038e-06\n",
      "R21 =  0.47009942017815265 0.003851286135831711\n",
      "R31 =  0.27220836789892855 0.003851225502904364\n",
      "P21 =  5.534468112054381 0.08957554203371611\n",
      "P31 =  5.006085365590144 0.13474119334516424\n"
     ]
    }
   ],
   "source": [
    "freq,period,P21,P31,R21,R31 = fitter.get_fourier_parameters()\n",
    "\n",
    "print('freq = ',  freq.n,   freq.s)\n",
    "print('period = ',period.n, period.s)\n",
    "print('R21 = ',   R21.n,    R21.s)\n",
    "print('R31 = ',   R31.n,    R31.s)\n",
    "print('P21 = ',   P21.n,    P21.s)\n",
    "print('P31 = ',   P31.n,    P31.s)"
   ]
  },
  {
   "cell_type": "markdown",
   "metadata": {},
   "source": [
    "### Prewhitening w/ given number of freqs w/ y errors"
   ]
  },
  {
   "cell_type": "code",
   "execution_count": 8,
   "metadata": {},
   "outputs": [],
   "source": [
    "# Initalize fitter\n",
    "fitter = FourierFitter()"
   ]
  },
  {
   "cell_type": "code",
   "execution_count": 9,
   "metadata": {},
   "outputs": [
    {
     "name": "stdout",
     "output_type": "stream",
     "text": [
      "CPU times: user 68.5 ms, sys: 5.7 ms, total: 74.2 ms\n",
      "Wall time: 72.5 ms\n"
     ]
    },
    {
     "name": "stderr",
     "output_type": "stream",
     "text": [
      "/Users/batty/opt/miniconda3/lib/python3.7/site-packages/ipykernel_launcher.py:206: UserWarning: One of the errors is inf! Shifting light curve by half period to calculate errors...\n"
     ]
    }
   ],
   "source": [
    "%%time\n",
    "# Do the Fourier calculation and fitting w/out bootstrap error estimation\n",
    "nfreq = 3\n",
    "pfit,err = fitter.fit_freqs( t,y, yerr,\n",
    "                             nfreq = nfreq,\n",
    "                             plotting = False,\n",
    "                             minimum_frequency=None,\n",
    "                             maximum_frequency=None,\n",
    "                             nyquist_factor=1,\n",
    "                             samples_per_peak=10,\n",
    "                             bootstrap=False,ntry=100,sample_size=0.9, parallel=False,ncores=-1,\n",
    "                             kind='sin')"
   ]
  },
  {
   "cell_type": "code",
   "execution_count": 10,
   "metadata": {},
   "outputs": [
    {
     "name": "stderr",
     "output_type": "stream",
     "text": [
      "/Users/batty/opt/miniconda3/lib/python3.7/site-packages/ipykernel_launcher.py:239: UserWarning: One of the errors is too small! Shifting light curve by half period to calculate errors...\n"
     ]
    },
    {
     "name": "stdout",
     "output_type": "stream",
     "text": [
      "CPU times: user 1.28 s, sys: 12.3 ms, total: 1.3 s\n",
      "Wall time: 1.3 s\n"
     ]
    }
   ],
   "source": [
    "%%time\n",
    "# Do the Fourier calculation and fitting w/ bootstrap error estimation\n",
    "nfreq = 3\n",
    "pfit,err = fitter.fit_freqs( t,y, yerr,\n",
    "                             nfreq = nfreq,\n",
    "                             plotting = False,\n",
    "                             minimum_frequency=None,\n",
    "                             maximum_frequency=None,\n",
    "                             nyquist_factor=1,\n",
    "                             samples_per_peak=10,\n",
    "                             bootstrap=True,ntry=100,sample_size=0.9, parallel=False,ncores=-1,\n",
    "                             kind='sin' )"
   ]
  },
  {
   "cell_type": "code",
   "execution_count": 11,
   "metadata": {},
   "outputs": [
    {
     "name": "stdout",
     "output_type": "stream",
     "text": [
      "freq =  1.7619841569810293 3.4508518631899787e-06\n",
      "A1   =  0.23544095829939346 0.0007125697660556336\n",
      "Phi1 =  1.2176260151919309e-14 0.04924516137225755\n",
      "A2   =  0.10959152002872836 0.0007500322310830206\n",
      "Phi2 =  5.537171965011364 0.005712429253873799\n",
      "A3   =  0.06220322849893763 0.0007720790350460896\n",
      "Phi3 =  4.98221500226248 0.01254661116401227\n"
     ]
    }
   ],
   "source": [
    "# Print results\n",
    "\n",
    "print('freq = ', pfit[0], err[0])\n",
    "\n",
    "ncomponents = int((len(pfit)-1)/2)\n",
    "for i in range(1, ncomponents + 1 ):\n",
    "    print('A%d   = ' % i,   pfit[i],             err[i])\n",
    "    print('Phi%d = ' % i,   pfit[i+ncomponents], err[i+ncomponents])"
   ]
  },
  {
   "cell_type": "markdown",
   "metadata": {},
   "source": [
    "#### Calculate Fourier parameters"
   ]
  },
  {
   "cell_type": "code",
   "execution_count": 12,
   "metadata": {},
   "outputs": [
    {
     "name": "stdout",
     "output_type": "stream",
     "text": [
      "freq =  1.7619841569810293 3.4508518631899787e-06\n",
      "period =  0.5675419929503751 1.1115328909466707e-06\n",
      "R21 =  0.46547347080268275 0.0034832447252801544\n",
      "R31 =  0.2641988418168016 0.0033753680279203294\n",
      "P21 =  5.53717196501134 0.09865584383248294\n",
      "P31 =  4.982215002262444 0.1482672948391455\n"
     ]
    }
   ],
   "source": [
    "freq,period,P21,P31,R21,R31 = fitter.get_fourier_parameters()\n",
    "\n",
    "print('freq = ',  freq.n,   freq.s)\n",
    "print('period = ',period.n, period.s)\n",
    "print('R21 = ',   R21.n,    R21.s)\n",
    "print('R31 = ',   R31.n,    R31.s)\n",
    "print('P21 = ',   P21.n,    P21.s)\n",
    "print('P31 = ',   P31.n,    P31.s)"
   ]
  }
 ],
 "metadata": {
  "kernelspec": {
   "display_name": "Python 3",
   "language": "python",
   "name": "python3"
  },
  "language_info": {
   "codemirror_mode": {
    "name": "ipython",
    "version": 3
   },
   "file_extension": ".py",
   "mimetype": "text/x-python",
   "name": "python",
   "nbconvert_exporter": "python",
   "pygments_lexer": "ipython3",
   "version": "3.7.6"
  }
 },
 "nbformat": 4,
 "nbformat_minor": 4
}
