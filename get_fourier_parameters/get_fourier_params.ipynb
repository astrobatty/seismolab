{
 "cells": [
  {
   "cell_type": "markdown",
   "metadata": {},
   "source": [
    "# The code"
   ]
  },
  {
   "cell_type": "code",
   "execution_count": 1,
   "metadata": {},
   "outputs": [],
   "source": [
    "import numpy as np\n",
    "from astropy.timeseries import LombScargle\n",
    "import matplotlib.pyplot as plt\n",
    "from scipy.optimize import curve_fit\n",
    "from warnings import warn\n",
    "from uncertainties import ufloat\n",
    "import multiprocessing\n",
    "#from tqdm.notebook import tqdm\n",
    "\n",
    "class FourierFitter():        \n",
    "    def func(self, time, amp, best_freq, phase, kind='sin'):\n",
    "        # sin or cos funtion to be fitted\n",
    "        if kind=='sin':\n",
    "            y = amp*np.sin(2*np.pi*best_freq*time + phase )\n",
    "        elif kind=='cos':\n",
    "            y = amp*np.cos(2*np.pi*best_freq*time + phase )\n",
    "        else:\n",
    "            raise TypeError('%s format does not exist. Select \\'sin\\' or \\'cos\\'.' % str(kind))\n",
    "        return y\n",
    "\n",
    "    def fit_all(self, *arg):\n",
    "        # fit all periodic components at the same time\n",
    "        time = arg[0]\n",
    "        best_freq = arg[1]\n",
    "        nparams = (len(arg)-2)//2\n",
    "        amps = arg[2:2+nparams]\n",
    "        phases = arg[2+nparams:-1]\n",
    "        kind = arg[-1]\n",
    "        y = 0\n",
    "        for i in range(len(amps)):\n",
    "            y += self.func(time, amps[i], (i+1)*best_freq, phases[i],kind=kind)\n",
    "        return y\n",
    "\n",
    "    def bootstrap(self,seed):\n",
    "        np.random.seed(seed)\n",
    "        tmp_lc = self.lc[np.random.choice( self.lc.shape[0], int(len(self.lc)*self.sample_size), replace=False), :]\n",
    "        if self.error is None: \n",
    "            tmp_pfit, _ = curve_fit(lambda *args: self.fit_all(*args, self.kind), tmp_lc[:,0], tmp_lc[:,1], p0=(self.freqs[0], *self.amps, *self.phases), maxfev=5000)\n",
    "        else:\n",
    "            tmp_pfit, _ = curve_fit(lambda *args: self.fit_all(*args, self.kind), tmp_lc[:,0], tmp_lc[:,1], p0=(self.freqs[0], *self.amps, *self.phases) , \n",
    "                              sigma=tmp_lc[:,2], absolute_sigma=self.absolute_sigma, maxfev=5000)\n",
    "        \n",
    "        return tmp_pfit\n",
    "\n",
    "    def fit_freqs(self, t, y, error=None,\n",
    "                  absolute_sigma=True,\n",
    "                  nfreq = 3,plotting = False,\n",
    "                  minimum_frequency=None,maximum_frequency=None,\n",
    "                  nyquist_factor=1,samples_per_peak=10,\n",
    "                  kind='sin',\n",
    "                  bootstrap=False,ntry=100,sample_size=0.9,\n",
    "                  parallel=False, ncores=-1,\n",
    "                  refit=False):\n",
    "        \"\"\"\n",
    "        ``fit_freqs`` performs Fourier pre-whitening and harmonic fitting.\n",
    "        Parameters\n",
    "        ----------\n",
    "        t : array-like\n",
    "            Time values of the light curve.\n",
    "        y : array-like\n",
    "            Flux/mag values of the light curve.\n",
    "        error : array-like, optional\n",
    "            Flux/mag errors values of the light curve. If not given, Fourier parameter\n",
    "            errors will be less reliable.\n",
    "        absolute_sigma : bool, default: True\n",
    "            If `True`, error is used in an absolute sense and the estimated parameter covariance\n",
    "            reflects these absolute values.\n",
    "        nfreq : int, default: 3\n",
    "            The number of harmonics to be fitted. Pass a very large number to fit all harmonics.\n",
    "        plotting: bool, default: False\n",
    "            If `True`, fitting steps will be displayed.\n",
    "        minimum_frequency : float, optional\n",
    "            If specified, then use this minimum frequency rather than one chosen based on the size\n",
    "            of the baseline.\n",
    "        maximum_frequency : float, optional\n",
    "            If specified, then use this maximum frequency rather than one chosen based on the average\n",
    "            nyquist frequency.\n",
    "        nyquist_factor : float, default: 1\n",
    "            The multiple of the average nyquist frequency used to choose the maximum frequency\n",
    "            if ``maximum_frequency`` is not provided.\n",
    "        samples_per_peak:  float, default: 10\n",
    "            The approximate number of desired samples across the typical frequency peak.\n",
    "        kind: str, 'sin' or 'cos'\n",
    "            Harmonic function to be fitted.\n",
    "        bootstrap: bool, default: False\n",
    "            If `True`, boostrap method will be used to estimate parameter uncertainties.\n",
    "        ntry: int, default: 100\n",
    "            Number of resamplings for bootstrap error estimation.\n",
    "        sample_size: float, default: 0.9\n",
    "            The ratio of data points to be used for bootstrap error estimation in each step.\n",
    "        parallel: bool, default : False\n",
    "            If `True`, bootstrap sampling is performed parallel to speed up the process.\n",
    "        ncores: int, default: -1\n",
    "            Number of CPU cores to be used for parallel boostraping. If `-1`, then all available\n",
    "            cores will be used.\n",
    "        Returns\n",
    "        -------\n",
    "        pfit : array-like\n",
    "            Array of fitted parameters. The main frequency, amplitude and phases of the harmonics.\n",
    "        perr : array-like\n",
    "            Estimated error of the parameters.\n",
    "        \"\"\"\n",
    "        \n",
    "        self.t = t\n",
    "        self.y = y\n",
    "        self.error = error\n",
    "        self.sample_size = sample_size\n",
    "        self.kind = kind\n",
    "        self.absolute_sigma = absolute_sigma\n",
    "\n",
    "        if minimum_frequency is not None and maximum_frequency is not None:\n",
    "            if minimum_frequency > maximum_frequency:\n",
    "                raise ValueError('Minimum frequency is larger than maximum frequency.')\n",
    "\n",
    "        if nfreq<1:\n",
    "            raise ValueError('Number of frequencies must be >1.')\n",
    "\n",
    "        # fit periodic funtions and do prewhitening\n",
    "        yres = self.y.copy()\n",
    "\n",
    "        self.freqs = []\n",
    "        self.amps = []\n",
    "        self.phases = []\n",
    "        self.freqserr = []\n",
    "        self.ampserr = []\n",
    "        self.phaseserr = []  \n",
    "\n",
    "        for i in range(nfreq):\n",
    "            if i == 0:\n",
    "                ls = LombScargle(self.t, yres, nterms=1)\n",
    "                freq, power = ls.autopower(normalization='psd',\n",
    "                                           minimum_frequency=minimum_frequency,\n",
    "                                           maximum_frequency=maximum_frequency,\n",
    "                                           samples_per_peak=samples_per_peak,\n",
    "                                           nyquist_factor=nyquist_factor)\n",
    "\n",
    "                # get first spectrum and fit first periodic component\n",
    "                try:\n",
    "                    best_freq = freq[power.argmax()]\n",
    "\n",
    "                    pfit1, pcov1 = curve_fit(lambda time, amp, phase: self.func(time, amp, best_freq, phase ,kind=kind), self.t, yres-np.mean(yres),\n",
    "                                          p0=(np.ptp(yres)/4,2.), bounds=(0, [np.ptp(yres), 2*np.pi]) , \n",
    "                                          sigma=self.error, absolute_sigma=absolute_sigma, maxfev=5000)\n",
    "                    pfit2, pcov2 = curve_fit(lambda time, amp, phase: self.func(time, amp, best_freq, phase ,kind=kind), self.t, yres-np.mean(yres),\n",
    "                                          p0=(np.ptp(yres)/4,5.), bounds=(0, [np.ptp(yres), 2*np.pi]) , \n",
    "                                          sigma=self.error, absolute_sigma=absolute_sigma, maxfev=5000)\n",
    "\n",
    "                    chi2_1 = np.sum( (yres-np.mean(yres) - self.func(self.t, pfit1[0], best_freq, pfit1[1] ,kind=kind))**2 )\n",
    "                    chi2_2 = np.sum( (yres-np.mean(yres) - self.func(self.t, pfit2[0], best_freq, pfit2[1] ,kind=kind))**2 )\n",
    "\n",
    "                    if chi2_1 < chi2_2:\n",
    "                        pfit = pfit1\n",
    "                    else:\n",
    "                        pfit = pfit2\n",
    "\n",
    "                    pfit, pcov = curve_fit(lambda time, amp, freq, phase: self.func(time, amp, freq, phase, kind=kind), self.t, yres-np.mean(yres),\n",
    "                                          p0=(pfit[0],best_freq,pfit[1]), bounds=(0, [np.ptp(yres), 2*best_freq, 2*np.pi]) , \n",
    "                                          sigma=self.error, absolute_sigma=absolute_sigma, maxfev=5000)\n",
    "\n",
    "                    best_freq = pfit[1]\n",
    "\n",
    "                except (RuntimeError,ValueError) as e:\n",
    "                    self.pfit = self.perr = [np.nan]*(nfreq*2+1)\n",
    "                    return self.pfit, self.perr\n",
    "\n",
    "            else:\n",
    "                # --- Check if frequency is greater than Nyquist ---\n",
    "                if (i+1)*best_freq > 0.5/np.median( np.diff(self.t) ):\n",
    "                    # freq > Nyquist\n",
    "                    warn('Frequency large than the Nyquist frequency!') \n",
    "                    \n",
    "                # --- Check if max power is still above the noise level ---\n",
    "                ls = LombScargle(self.t, yres, nterms=1)\n",
    "                minf = (i+1)*best_freq-0.5\n",
    "                if minf<0 : minf = 0\n",
    "                freq, power = ls.autopower(normalization='psd',\n",
    "                                           minimum_frequency=minf,\n",
    "                                           maximum_frequency=(i+1)*best_freq+0.5,\n",
    "                                           samples_per_peak=samples_per_peak)\n",
    "                \n",
    "                goodpts = np.isfinite(power)\n",
    "                freq = freq[goodpts]\n",
    "                power = power[goodpts]\n",
    "                \n",
    "                df = 1/np.ptp(self.t)\n",
    "                umpeak = (freq > (i+1)*best_freq - df) & (freq < (i+1)*best_freq + df)\n",
    "                if np.max(np.sqrt(power[umpeak])) <= np.mean(np.sqrt(power)) + 3*np.std(np.sqrt(power)):\n",
    "                    # peak height < mean + 3 std\n",
    "                    break\n",
    "                    \n",
    "                # --- Check if best period is longer than 2x data duration ---\n",
    "                if np.allclose(freq[np.argmax(power)] ,0) or 0.5/freq[np.argmax(power)] < 1/np.ptp(self.t):\n",
    "                    warn('Period is longer than 2x data duration!\\nSet minimum frequency to avoid problems!\\nSkipping...') \n",
    "                    break\n",
    "                \n",
    "                # --- get ith spectrum and fit ith periodic component ---\n",
    "                pfit1, pcov1 = curve_fit(lambda time, amp, phase: self.func(time, amp, (i+1)*best_freq, phase, kind=kind), self.t, yres-np.mean(yres),\n",
    "                                          p0=(np.ptp(yres)/4,2.), bounds=(0, [np.ptp(yres), 2*np.pi]) , \n",
    "                                          sigma=self.error, absolute_sigma=absolute_sigma, maxfev=5000)\n",
    "                pfit2, pcov2 = curve_fit(lambda time, amp, phase: self.func(time, amp, (i+1)*best_freq, phase, kind=kind), self.t, yres-np.mean(yres),\n",
    "                                          p0=(np.ptp(yres)/4,5.), bounds=(0, [np.ptp(yres), 2*np.pi]) , \n",
    "                                          sigma=self.error, absolute_sigma=absolute_sigma, maxfev=5000)\n",
    "\n",
    "                chi2_1 = np.sum( (yres-np.mean(yres) - self.func(self.t, pfit1[0], (i+1)*best_freq, pfit1[1], kind=kind ))**2 )\n",
    "                chi2_2 = np.sum( (yres-np.mean(yres) - self.func(self.t, pfit2[0], (i+1)*best_freq, pfit2[1], kind=kind ))**2 )\n",
    "\n",
    "                if chi2_1 < chi2_2:\n",
    "                    pfit = pfit1\n",
    "                    pcov = pcov1\n",
    "                else:\n",
    "                    pfit = pfit2\n",
    "                    pcov = pcov2\n",
    "\n",
    "            if plotting:\n",
    "                # plot phased light curve and fit\n",
    "                if i==0:\n",
    "                    per = 1/pfit[1]\n",
    "                else:\n",
    "                    per = 1/( (i+1)*best_freq )\n",
    "                    \n",
    "                    # Calculate spectrum for plotting\n",
    "                    ls = LombScargle(self.t, yres, nterms=1)\n",
    "                    freq, power = ls.autopower(normalization='psd',\n",
    "                                               minimum_frequency=minimum_frequency,\n",
    "                                               maximum_frequency=maximum_frequency,\n",
    "                                               samples_per_peak=samples_per_peak,\n",
    "                                               nyquist_factor=nyquist_factor)\n",
    "                        \n",
    "                plt.figure(figsize=(15,3))\n",
    "                plt.subplot(121)\n",
    "                plt.plot(freq, power)\n",
    "                plt.xlabel('Frequency (c/d)')\n",
    "                plt.ylabel('LS power')\n",
    "                plt.grid()\n",
    "                plt.subplot(122)\n",
    "                plt.plot(self.t%per/per,yres-yres.mean(),'k.')\n",
    "                plt.plot(self.t%per/per+1,yres-yres.mean(),'k.')\n",
    "                if i == 0:\n",
    "                    plt.plot(self.t%per/per,self.func(self.t,pfit[0],pfit[1],pfit[2], kind=kind),'C1.',ms=1)\n",
    "                    plt.plot(self.t%per/per+1,self.func(self.t,pfit[0],pfit[1],pfit[2], kind=kind),'C1.',ms=1)\n",
    "                else:\n",
    "                    plt.plot(self.t%per/per,self.func(self.t,pfit[0],(i+1)*best_freq,pfit[1], kind=kind),'C1.',ms=1)\n",
    "                    plt.plot(self.t%per/per+1,self.func(self.t,pfit[0],(i+1)*best_freq,pfit[1], kind=kind),'C1.',ms=1)\n",
    "                plt.xlabel('Phase)')\n",
    "                plt.ylabel('Brightness')\n",
    "                plt.show()\n",
    "\n",
    "            if i==0:\n",
    "                # start to collect results\n",
    "                self.freqs.append( pfit[1] )\n",
    "                self.amps.append( pfit[0] )\n",
    "                self.phases.append( pfit[2] )\n",
    "\n",
    "                pcov = np.sqrt(np.diag(pcov))\n",
    "                self.freqserr.append( pcov[1] )\n",
    "                self.ampserr.append( pcov[0] )\n",
    "                self.phaseserr.append( pcov[2] )\n",
    "\n",
    "                yres -= self.func(self.t,pfit[0],pfit[1],pfit[2], kind=kind)\n",
    "            else:\n",
    "                # collect ith results\n",
    "                self.freqs.append( (i+1)*best_freq )\n",
    "                self.amps.append( pfit[0] )\n",
    "                self.phases.append( pfit[1] )\n",
    "\n",
    "                pcov = np.sqrt(np.diag(pcov))\n",
    "                self.freqserr.append( self.freqserr[0] )\n",
    "                self.ampserr.append( pcov[0] )\n",
    "                self.phaseserr.append( pcov[1] )\n",
    "\n",
    "                yres -= self.func(self.t,pfit[0],(i+1)*best_freq,pfit[1], kind=kind)\n",
    "\n",
    "        try: \n",
    "            # fit all periodic components at the same time\n",
    "            pfit, pcov = curve_fit(lambda *args: self.fit_all(*args, kind), self.t, self.y-np.mean(self.y),p0=(self.freqs[0], *self.amps, *self.phases) , \n",
    "                                    sigma=self.error, absolute_sigma=absolute_sigma, maxfev=5000)\n",
    "            \n",
    "            # if any of the errors is inf, shift light curve by period/2 and get new errors\n",
    "            if not bootstrap and np.any(np.isinf(pcov)):\n",
    "                warn('One of the errors is inf! Shifting light curve by half period to calculate errors...')\n",
    "                _, pcov = curve_fit(lambda *args: self.fit_all(*args, kind), self.t + 0.5/pfit[0], self.y-np.mean(self.y),p0=(self.freqs[0], *self.amps, *[(pha+np.pi)%(2*np.pi) for pha in self.phases]) , \n",
    "                                    sigma=self.error, absolute_sigma=absolute_sigma, maxfev=5000)\n",
    "\n",
    "            if bootstrap and refit is False:\n",
    "                # use bootstrap to get realistic errors (bootstrap = get subsample and redo fit n times)\n",
    "                if self.error is None: self.lc = np.c_[self.t, self.y-np.mean(self.y)]\n",
    "                else:                  self.lc = np.c_[self.t, self.y-np.mean(self.y), self.error]\n",
    "\n",
    "                bootstrap_fit = np.empty( (ntry,len(pfit)) )\n",
    "                seeds = np.random.randint(1e09,size=ntry)\n",
    "                if parallel:\n",
    "                    # do bootstrap fit parallal\n",
    "                    available_ncores = multiprocessing.cpu_count()\n",
    "                    if ncores <= -1:\n",
    "                        ncores = available_ncores\n",
    "                    elif available_ncores<ncores:\n",
    "                        ncores = available_ncores\n",
    "                    with multiprocessing.Pool(processes=ncores) as p:\n",
    "                        #with tqdm(total=ntry) as pbar:\n",
    "                        for i,result in enumerate(p.imap_unordered(self.bootstrap,seeds)):\n",
    "                            # Save result\n",
    "                            bootstrap_fit[i,:] = result\n",
    "                            #pbar.update()\n",
    "                else:\n",
    "                    for i,seed in enumerate(seeds):\n",
    "                        bootstrap_fit[i,:] = self.bootstrap(seed)\n",
    "\n",
    "                #meanval = np.nanmean(bootstrap_fit,axis=0)\n",
    "                perr = np.nanstd(bootstrap_fit,axis=0)\n",
    "\n",
    "                if np.any(perr == 0.0):\n",
    "                    # if any of the errors is 0, shift light curve by period/2 and get new errors\n",
    "                    warn('One of the errors is too small! Shifting light curve by half period to calculate errors...')\n",
    "\n",
    "                    _,newperr = self.fit_freqs(self.t + 0.5/pfit[0], self.y-np.mean(self.y), nfreq = nfreq,plotting = False,\n",
    "                                  minimum_frequency=minimum_frequency,maximum_frequency=maximum_frequency,\n",
    "                                  nyquist_factor=nyquist_factor,samples_per_peak=samples_per_peak,\n",
    "                                  bootstrap=True,ntry=ntry,sample_size=self.sample_size,\n",
    "                                  refit=True)\n",
    "\n",
    "                    try:\n",
    "                        um = np.where( perr==0.0 )[0]\n",
    "                        perr[um] = np.copy(newperr[um])\n",
    "                    except IndexError:\n",
    "                        pass\n",
    "                    self.pfit = pfit\n",
    "                    self.perr = perr\n",
    "                    return self.pfit, self.perr\n",
    "\n",
    "                self.pfit = pfit\n",
    "                self.perr = perr\n",
    "                return self.pfit, self.perr\n",
    "\n",
    "            elif bootstrap and refit:\n",
    "                # get new errors for shifted light curve\n",
    "                if self.error is None: lc = np.c_[self.t, self.y-np.mean(y)]\n",
    "                else:                  lc = np.c_[self.t, self.y-np.mean(y), self.error]\n",
    "\n",
    "                bootstrap_fit = np.empty( (ntry,len(pfit)) )\n",
    "                seeds = np.random.randint(1e09,size=ntry)\n",
    "                if parallel:\n",
    "                    # do bootstrap fit parallal\n",
    "                    available_ncores = multiprocessing.cpu_count()\n",
    "                    if ncores <= -1:\n",
    "                        ncores = available_ncores\n",
    "                    elif available_ncores<ncores:\n",
    "                        ncores = available_ncores\n",
    "                    with multiprocessing.Pool(processes=ncores) as p:\n",
    "                        #with tqdm(total=ntry) as pbar:\n",
    "                        for i,result in enumerate(p.imap_unordered(self.bootstrap,seeds)):\n",
    "                            # Save result\n",
    "                            bootstrap_fit[i,:] = result\n",
    "                            #pbar.update()\n",
    "                else:\n",
    "                    for i,seed in enumerate(seeds):\n",
    "                        bootstrap_fit[i,:] = self.bootstrap(seed)\n",
    "\n",
    "                #meanval = np.nanmean(bootstrap_fit,axis=0)\n",
    "                newperr = np.nanstd(bootstrap_fit,axis=0)\n",
    "\n",
    "                self.pfit = pfit\n",
    "                self.perr = newperr\n",
    "                return self.pfit, self.perr\n",
    "\n",
    "            self.pfit = pfit\n",
    "            self.perr = np.sqrt(np.diag(pcov))\n",
    "            return self.pfit, self.perr\n",
    "\n",
    "        except RuntimeError:\n",
    "            # if fit all components at once fails return previous results, and errors from covariance matrix\n",
    "            if bootstrap:\n",
    "                warn('BootStrap not used!')\n",
    "\n",
    "            self.pfit = np.array([self.freqs[0], *self.amps, *self.phases])\n",
    "            self.perr = np.array([self.freqserr[0], *self.ampserr, *self.phaseserr])\n",
    "            return self.pfit, self.perr\n",
    "\n",
    "    def get_fourier_parameters(self):\n",
    "        \"\"\"\n",
    "        Calculates Fourier parameters from given amplitudes and phases.\n",
    "  \n",
    "        Returns\n",
    "        -------\n",
    "        freq : number with uncertainty\n",
    "            Main frequency and its estimated error.\n",
    "        period : \n",
    "            Main period and its estimated error.\n",
    "        P21 : number with uncertainty\n",
    "            Phi21 and its estimated error.\n",
    "        P31 : number with uncertainty\n",
    "            Phi31 and its estimated error.\n",
    "        R21 : number with uncertainty\n",
    "            R21 and its estimated error.\n",
    "        R31 : number with uncertainty\n",
    "            R31 and its estimated error.\n",
    "        \"\"\"\n",
    "        if np.all(np.isnan(self.pfit)) or len(self.pfit)<6:\n",
    "            warn('Not enough components to get Fourier parameters!') \n",
    "            #raise ValueError('Not enough components to get Fourier parameters!') \n",
    "            \n",
    "            freq = ufloat(np.nan,np.nan)\n",
    "            period = np.nan\n",
    "            R21 = ufloat(np.nan,np.nan)\n",
    "            R31 = ufloat(np.nan,np.nan)\n",
    "            P21 = ufloat(np.nan,np.nan)\n",
    "            P31 = ufloat(np.nan,np.nan)\n",
    "        \n",
    "        else:\n",
    "\n",
    "            nfreq = int(  (len(self.pfit)-1)/2  )\n",
    "\n",
    "            freq = ufloat(self.pfit[0],self.perr[0])\n",
    "            period = 1/freq\n",
    "            R21 = ufloat(self.pfit[2],self.perr[2]) / ufloat(self.pfit[1],self.perr[1])\n",
    "            R31 = ufloat(self.pfit[3],self.perr[3]) / ufloat(self.pfit[1],self.perr[1])\n",
    "            P21 = ( ufloat(self.pfit[nfreq+2],self.perr[nfreq+2] )- 2* ufloat(self.pfit[nfreq+1],self.perr[nfreq+1]) )%(2*np.pi)\n",
    "            P31 = ( ufloat(self.pfit[nfreq+3],self.perr[nfreq+3] )- 3* ufloat(self.pfit[nfreq+1],self.perr[nfreq+1]) )%(2*np.pi)\n",
    "\n",
    "        return freq,period,P21,P31,R21,R31\n",
    "    \n",
    "    def get_residual(self):\n",
    "        \"\"\"\n",
    "        Calculates the residual light curve after Fourier fitting.\n",
    "  \n",
    "        Returns\n",
    "        -------\n",
    "        t : array\n",
    "            Time stamps.\n",
    "        y : array\n",
    "            Residual flux/amp.\n",
    "        yerr : array, optional\n",
    "            If input errors were given, then error of residual flux/amp.\n",
    "        \"\"\"\n",
    "        if self.error is None:\n",
    "            return self.t, self.y -np.mean(self.y) - self.fit_all(self.t, *self.pfit, self.kind)\n",
    "        else:\n",
    "            return self.t, self.y -np.mean(self.y) - self.fit_all(self.t, *self.pfit, self.kind), self.error"
   ]
  },
  {
   "cell_type": "markdown",
   "metadata": {},
   "source": [
    "# Important notes\n",
    "\n",
    "- The Fourier series fit can be done via two ways. Fitting $sine$ or $cosine$ functions:\n",
    "\n",
    "$$ \\sum_i A_i sin( 2\\pi f_i t + \\phi_i ) + constant $$,\n",
    "\n",
    "$$ \\sum_i A_i cos( 2\\pi f_i t + \\phi_i ) + constant $$\n",
    "\n",
    "where $A_i$ is the semi-amplitude, $f_i$ is the frequency and $\\phi_i$ is the phase of the given component. The _constant_ is the mean of the light curve.\n",
    "\n",
    "This is __optional in the code__. Use the keyword kind='sin' or kind='cos' to select one. The default is sine.\n",
    "\n",
    "- After the fitting of ___at least___ 3 frequencies the Fourier parameters are calculated as\n",
    "\n",
    "$$ R_{21} = \\frac{A_2}{A_1} $$,\n",
    "$$ R_{31} = \\frac{A_3}{A_1} $$,\n",
    "$$ \\phi_{21} = \\phi_2 - 2 \\phi_1 $$,\n",
    "$$ \\phi_{31} = \\phi_3 - 3 \\phi_1 $$\n",
    "\n",
    "which values __depend on__ the ___chosen function (sine or cosine)___, the ___physical units (flux or mag)___ and the passband. The more the harmonics, the more accurate the results. Set _nfreq_ to a very large number to get all harmonics.\n",
    "\n",
    "- __The code first finds the frequency with the highest peak in the spectrum__ and after that does a consequtive pre-whitening with the integer multiples of that frequency. Thus, if we want to calculate the Fourier parameters of e.g. the second overtone, we have put constraints on the frequency range to be checked a.k.a. _minimum\\_frequency_ and _maximum\\_frequency_ must be defined.\n",
    "\n",
    "- __Errors__ are estimed from the covariance matric by deafult. Set _bootstrap_ to _True_ to enable the more reliable bootstrap method."
   ]
  },
  {
   "cell_type": "markdown",
   "metadata": {},
   "source": [
    "# Load example lc"
   ]
  },
  {
   "cell_type": "code",
   "execution_count": 2,
   "metadata": {},
   "outputs": [
    {
     "name": "stderr",
     "output_type": "stream",
     "text": [
      "/Users/batty/opt/miniconda3/lib/python3.7/site-packages/lightkurve/lightcurvefile.py:47: LightkurveWarning: `LightCurveFile.header` is deprecated, please use `LightCurveFile.get_header()` instead.\n",
      "  LightkurveWarning)\n"
     ]
    }
   ],
   "source": [
    "import lightkurve as lk\n",
    "\n",
    "lc = lk.search_lightcurvefile('RR Lyr',quarter=1).download_all()\n",
    "lc = lc.PDCSAP_FLUX.stitch().remove_outliers().remove_nans()\n",
    "\n",
    "# Store results in separate arrays for clarity\n",
    "t = lc.time\n",
    "y = lc.flux\n",
    "yerr = lc.flux_err"
   ]
  },
  {
   "cell_type": "markdown",
   "metadata": {},
   "source": [
    "# Option 1-a: Prewhitening with given number of freqs __without__ y errors"
   ]
  },
  {
   "cell_type": "code",
   "execution_count": 3,
   "metadata": {},
   "outputs": [],
   "source": [
    "# Initialize fitter\n",
    "fitter = FourierFitter()"
   ]
  },
  {
   "cell_type": "code",
   "execution_count": 4,
   "metadata": {},
   "outputs": [
    {
     "name": "stdout",
     "output_type": "stream",
     "text": [
      "CPU times: user 69.3 ms, sys: 6.01 ms, total: 75.3 ms\n",
      "Wall time: 76.9 ms\n"
     ]
    },
    {
     "name": "stderr",
     "output_type": "stream",
     "text": [
      "/Users/batty/opt/miniconda3/lib/python3.7/site-packages/scipy/optimize/minpack.py:829: OptimizeWarning: Covariance of the parameters could not be estimated\n",
      "  category=OptimizeWarning)\n",
      "/Users/batty/opt/miniconda3/lib/python3.7/site-packages/ipykernel_launcher.py:272: UserWarning: One of the errors is inf! Shifting light curve by half period to calculate errors...\n"
     ]
    }
   ],
   "source": [
    "# Do the Fourier calculation and fitting w/out bootstrap error estimation\n",
    "\n",
    "nfreq = 3  # Set to e.g. 9999 to fit all harmonics\n",
    "pfit,err = fitter.fit_freqs( t,y,\n",
    "                             nfreq = nfreq,\n",
    "                             plotting = False,\n",
    "                             minimum_frequency=None,\n",
    "                             maximum_frequency=None,\n",
    "                             nyquist_factor=1,\n",
    "                             samples_per_peak=10,\n",
    "                             bootstrap=False,ntry=100,sample_size=0.9, parallel=False,ncores=-1,\n",
    "                             kind='sin' )"
   ]
  },
  {
   "cell_type": "markdown",
   "metadata": {},
   "source": [
    "## Option 1-b: Same with Bootstrap error estimation to get more reliable errorbars"
   ]
  },
  {
   "cell_type": "code",
   "execution_count": 6,
   "metadata": {},
   "outputs": [
    {
     "name": "stderr",
     "output_type": "stream",
     "text": [
      "/Users/batty/opt/miniconda3/lib/python3.7/site-packages/scipy/optimize/minpack.py:829: OptimizeWarning: Covariance of the parameters could not be estimated\n",
      "  category=OptimizeWarning)\n",
      "/Users/batty/opt/miniconda3/lib/python3.7/site-packages/ipykernel_launcher.py:305: UserWarning: One of the errors is too small! Shifting light curve by half period to calculate errors...\n"
     ]
    },
    {
     "name": "stdout",
     "output_type": "stream",
     "text": [
      "CPU times: user 1.15 s, sys: 9.14 ms, total: 1.16 s\n",
      "Wall time: 1.16 s\n"
     ]
    }
   ],
   "source": [
    "# Do the Fourier calculation and fitting w/ bootstrap error estimation\n",
    "\n",
    "nfreq = 3   # Set to e.g. 9999 to fit all harmonics\n",
    "pfit,err = fitter.fit_freqs( t,y,\n",
    "                             nfreq = nfreq,\n",
    "                             plotting = False,\n",
    "                             minimum_frequency=None,\n",
    "                             maximum_frequency=None,\n",
    "                             nyquist_factor=1,\n",
    "                             samples_per_peak=10,\n",
    "                             bootstrap=True,ntry=100,sample_size=0.9, parallel=False,ncores=-1,\n",
    "                             kind='sin' )"
   ]
  },
  {
   "cell_type": "markdown",
   "metadata": {},
   "source": [
    "#### Get residual light curve if needed"
   ]
  },
  {
   "cell_type": "code",
   "execution_count": 5,
   "metadata": {},
   "outputs": [
    {
     "data": {
      "image/png": "[encoded data removed]",
      "text/plain": [
       "<Figure size 432x288 with 1 Axes>"
      ]
     },
     "metadata": {
      "needs_background": "light"
     },
     "output_type": "display_data"
    }
   ],
   "source": [
    "t, resy = fitter.get_residual()\n",
    "\n",
    "plt.plot(t,y)\n",
    "plt.plot(t,resy)\n",
    "plt.show()"
   ]
  },
  {
   "cell_type": "markdown",
   "metadata": {},
   "source": [
    "#### Print results"
   ]
  },
  {
   "cell_type": "code",
   "execution_count": 7,
   "metadata": {},
   "outputs": [
    {
     "name": "stdout",
     "output_type": "stream",
     "text": [
      "freq =  1.7620050802180858 2.9238024944838458e-06\n",
      "A1   =  0.23895433654455855 0.0008538406449331871\n",
      "Phi1 =  1.468292094353512e-14 0.04463978873882459\n",
      "A2   =  0.11233229505865212 0.0007608096712029118\n",
      "Phi2 =  5.534468112054411 0.006284508505289748\n",
      "A3   =  0.06504536995316558 0.0007630668799451481\n",
      "Phi3 =  5.006085365590188 0.013226007390356703\n"
     ]
    }
   ],
   "source": [
    "print('freq = ', pfit[0], err[0])\n",
    "\n",
    "ncomponents = int((len(pfit)-1)/2)\n",
    "for i in range(1, ncomponents + 1 ):\n",
    "    print('A%d   = ' % i,   pfit[i],             err[i])\n",
    "    print('Phi%d = ' % i,   pfit[i+ncomponents], err[i+ncomponents])"
   ]
  },
  {
   "cell_type": "markdown",
   "metadata": {},
   "source": [
    "#### Calculate Fourier parameters"
   ]
  },
  {
   "cell_type": "code",
   "execution_count": 8,
   "metadata": {},
   "outputs": [
    {
     "name": "stdout",
     "output_type": "stream",
     "text": [
      "freq =  1.7620050802180858 2.9238024944838458e-06\n",
      "period =  0.5675352535738595 9.417458602908177e-07\n",
      "R21 =  0.47009942017815265 0.0035998539892943076\n",
      "R31 =  0.27220836789892855 0.0033382055950770414\n",
      "P21 =  5.534468112054381 0.08950049162848561\n",
      "P31 =  5.006085365590144 0.13457088808249645\n"
     ]
    }
   ],
   "source": [
    "freq,period,P21,P31,R21,R31 = fitter.get_fourier_parameters()\n",
    "\n",
    "print('freq = ',  freq.n,   freq.s)\n",
    "print('period = ',period.n, period.s)\n",
    "print('R21 = ',   R21.n,    R21.s)\n",
    "print('R31 = ',   R31.n,    R31.s)\n",
    "print('P21 = ',   P21.n,    P21.s)\n",
    "print('P31 = ',   P31.n,    P31.s)"
   ]
  },
  {
   "cell_type": "markdown",
   "metadata": {},
   "source": [
    "# Option 2-a: Prewhitening with given number of freqs __with__ y errors"
   ]
  },
  {
   "cell_type": "code",
   "execution_count": 9,
   "metadata": {},
   "outputs": [],
   "source": [
    "# Initalize fitter\n",
    "fitter = FourierFitter()"
   ]
  },
  {
   "cell_type": "code",
   "execution_count": 10,
   "metadata": {},
   "outputs": [
    {
     "name": "stdout",
     "output_type": "stream",
     "text": [
      "CPU times: user 65.3 ms, sys: 5.24 ms, total: 70.5 ms\n",
      "Wall time: 70 ms\n"
     ]
    },
    {
     "name": "stderr",
     "output_type": "stream",
     "text": [
      "/Users/batty/opt/miniconda3/lib/python3.7/site-packages/ipykernel_launcher.py:272: UserWarning: One of the errors is inf! Shifting light curve by half period to calculate errors...\n"
     ]
    }
   ],
   "source": [
    "%%time\n",
    "# Do the Fourier calculation and fitting w/out bootstrap error estimation\n",
    "\n",
    "nfreq = 3  # Set to e.g. 9999 to fit all harmonics\n",
    "pfit,err = fitter.fit_freqs( t,y, error=yerr,\n",
    "                             nfreq = nfreq,\n",
    "                             plotting = False,\n",
    "                             minimum_frequency=None,\n",
    "                             maximum_frequency=None,\n",
    "                             nyquist_factor=1,\n",
    "                             samples_per_peak=10,\n",
    "                             bootstrap=False,ntry=100,sample_size=0.9, parallel=False,ncores=-1,\n",
    "                             kind='sin')"
   ]
  },
  {
   "cell_type": "markdown",
   "metadata": {},
   "source": [
    "## Option 2-b: Same with Bootstrap error estimation to get more reliable errorbars"
   ]
  },
  {
   "cell_type": "code",
   "execution_count": 12,
   "metadata": {},
   "outputs": [
    {
     "name": "stderr",
     "output_type": "stream",
     "text": [
      "/Users/batty/opt/miniconda3/lib/python3.7/site-packages/scipy/optimize/minpack.py:829: OptimizeWarning: Covariance of the parameters could not be estimated\n",
      "  category=OptimizeWarning)\n",
      "/Users/batty/opt/miniconda3/lib/python3.7/site-packages/ipykernel_launcher.py:305: UserWarning: One of the errors is too small! Shifting light curve by half period to calculate errors...\n"
     ]
    },
    {
     "name": "stdout",
     "output_type": "stream",
     "text": [
      "CPU times: user 1.26 s, sys: 11 ms, total: 1.27 s\n",
      "Wall time: 1.27 s\n"
     ]
    }
   ],
   "source": [
    "%%time\n",
    "# Do the Fourier calculation and fitting w/ bootstrap error estimation\n",
    "\n",
    "nfreq = 3   # Set to e.g. 9999 to fit all harmonics\n",
    "pfit,err = fitter.fit_freqs( t,y, error=yerr,\n",
    "                             nfreq = nfreq,\n",
    "                             plotting = False,\n",
    "                             minimum_frequency=None,\n",
    "                             maximum_frequency=None,\n",
    "                             nyquist_factor=1,\n",
    "                             samples_per_peak=10,\n",
    "                             bootstrap=True,ntry=100,sample_size=0.9, parallel=False,ncores=-1,\n",
    "                             kind='sin' )"
   ]
  },
  {
   "cell_type": "markdown",
   "metadata": {},
   "source": [
    "#### Get residual light curve if needed"
   ]
  },
  {
   "cell_type": "code",
   "execution_count": 11,
   "metadata": {},
   "outputs": [
    {
     "data": {
      "image/png": "[encoded data removed]",
      "text/plain": [
       "<Figure size 432x288 with 1 Axes>"
      ]
     },
     "metadata": {
      "needs_background": "light"
     },
     "output_type": "display_data"
    }
   ],
   "source": [
    "t, resy, err = fitter.get_residual()\n",
    "\n",
    "plt.plot(t,y)\n",
    "plt.plot(t,resy)\n",
    "plt.show()"
   ]
  },
  {
   "cell_type": "markdown",
   "metadata": {},
   "source": [
    "#### Print results"
   ]
  },
  {
   "cell_type": "code",
   "execution_count": 13,
   "metadata": {},
   "outputs": [
    {
     "name": "stdout",
     "output_type": "stream",
     "text": [
      "freq =  1.7619841569810293 3.113304056032256e-06\n",
      "A1   =  0.23544095829939346 0.0007362921513235307\n",
      "Phi1 =  1.2176260151919309e-14 0.04810687314340979\n",
      "A2   =  0.10959152002872836 0.0007475793689538121\n",
      "Phi2 =  5.537171965011364 0.005410636108013566\n",
      "A3   =  0.06220322849893763 0.0007430549853488334\n",
      "Phi3 =  4.98221500226248 0.011321447488064596\n"
     ]
    }
   ],
   "source": [
    "print('freq = ', pfit[0], err[0])\n",
    "\n",
    "ncomponents = int((len(pfit)-1)/2)\n",
    "for i in range(1, ncomponents + 1 ):\n",
    "    print('A%d   = ' % i,   pfit[i],             err[i])\n",
    "    print('Phi%d = ' % i,   pfit[i+ncomponents], err[i+ncomponents])"
   ]
  },
  {
   "cell_type": "markdown",
   "metadata": {},
   "source": [
    "#### Calculate Fourier parameters"
   ]
  },
  {
   "cell_type": "code",
   "execution_count": 14,
   "metadata": {},
   "outputs": [
    {
     "name": "stdout",
     "output_type": "stream",
     "text": [
      "freq =  1.7619841569810293 3.113304056032256e-06\n",
      "period =  0.5675419929503751 1.002807421179359e-06\n",
      "R21 =  0.46547347080268275 0.00349300256892464\n",
      "R31 =  0.2641988418168016 0.00326237261578689\n",
      "P21 =  5.53717196501134 0.09636576133481138\n",
      "P31 =  4.982215002262444 0.1447640023139389\n"
     ]
    }
   ],
   "source": [
    "freq,period,P21,P31,R21,R31 = fitter.get_fourier_parameters()\n",
    "\n",
    "print('freq = ',  freq.n,   freq.s)\n",
    "print('period = ',period.n, period.s)\n",
    "print('R21 = ',   R21.n,    R21.s)\n",
    "print('R31 = ',   R31.n,    R31.s)\n",
    "print('P21 = ',   P21.n,    P21.s)\n",
    "print('P31 = ',   P31.n,    P31.s)"
   ]
  },
  {
   "cell_type": "code",
   "execution_count": null,
   "metadata": {},
   "outputs": [],
   "source": []
  }
 ],
 "metadata": {
  "kernelspec": {
   "display_name": "Python 3",
   "language": "python",
   "name": "python3"
  },
  "language_info": {
   "codemirror_mode": {
    "name": "ipython",
    "version": 3
   },
   "file_extension": ".py",
   "mimetype": "text/x-python",
   "name": "python",
   "nbconvert_exporter": "python",
   "pygments_lexer": "ipython3",
   "version": "3.7.6"
  }
 },
 "nbformat": 4,
 "nbformat_minor": 4
}
