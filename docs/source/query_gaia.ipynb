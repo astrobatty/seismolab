{
 "cells": [
  {
   "cell_type": "markdown",
   "metadata": {},
   "source": [
    "# Query Gaia catalog"
   ]
  },
  {
   "cell_type": "code",
   "execution_count": 6,
   "metadata": {},
   "outputs": [],
   "source": [
    "import numpy as np\n",
    "from seismolab.gaia import query_gaia\n",
    "\n",
    "targets = np.array([3107142829863485952])"
   ]
  },
  {
   "cell_type": "code",
   "execution_count": 7,
   "metadata": {},
   "outputs": [
    {
     "name": "stdout",
     "output_type": "stream",
     "text": [
      "Using Combined19 map from mwdust\n",
      "Querying Gaia DR3 and BJ catalogs...\n",
      "Downloading Simbad data for all stars...\n",
      "Calculating distances, absolute magnitudes...\n"
     ]
    },
    {
     "data": {
      "application/vnd.jupyter.widget-view+json": {
       "model_id": "5dc31c708b624692adfebd2173b0ca52",
       "version_major": 2,
       "version_minor": 0
      },
      "text/plain": [
       "  0%|          | 0/1 [00:00<?, ?it/s]"
      ]
     },
     "metadata": {},
     "output_type": "display_data"
    }
   ],
   "source": [
    "res = query_gaia(targets,gaiaDR=3)"
   ]
  },
  {
   "cell_type": "code",
   "execution_count": 8,
   "metadata": {},
   "outputs": [
    {
     "data": {
      "text/html": [
       "<div><i>Table length=1</i>\n",
       "<table id=\"table140655890863824\" class=\"table-striped table-bordered table-condensed\">\n",
       "<thead><tr><th>Source</th><th>ra</th><th>dec</th><th>plx</th><th>sig_plx</th><th>gamag</th><th>sig_gamag</th><th>bpmag</th><th>sig_bpmag</th><th>rpmag</th><th>sig_rpmag</th><th>vmag</th><th>sig_vmag</th><th>jmag</th><th>sig_jmag</th><th>hmag</th><th>sig_hmag</th><th>kmag</th><th>sig_kmag</th><th>dis</th><th>disep</th><th>disem</th><th>lon_deg</th><th>lat_deg</th><th>ag</th><th>agep</th><th>agem</th><th>MG</th><th>MGep</th><th>MGem</th><th>mG</th><th>mGep</th><th>mGem</th><th>aBP</th><th>aBPep</th><th>aBPem</th><th>MBP</th><th>MBPep</th><th>MBPem</th><th>mBP</th><th>mBPep</th><th>mBPem</th><th>aRP</th><th>aRPep</th><th>aRPem</th><th>MRP</th><th>MRPep</th><th>MRPem</th><th>mRP</th><th>mRPep</th><th>mRPem</th><th>aV</th><th>aVep</th><th>aVem</th><th>MV</th><th>MVep</th><th>MVem</th><th>mV</th><th>mVep</th><th>mVem</th><th>aJ</th><th>aJep</th><th>aJem</th><th>MJ</th><th>MJep</th><th>MJem</th><th>mJ</th><th>mJep</th><th>mJem</th><th>aH</th><th>aHep</th><th>aHem</th><th>MH</th><th>MHep</th><th>MHem</th><th>mH</th><th>mHep</th><th>mHem</th><th>aK</th><th>aKep</th><th>aKem</th><th>MK</th><th>MKep</th><th>MKem</th><th>mK</th><th>mKep</th><th>mKem</th></tr></thead>\n",
       "<thead><tr><th></th><th>deg</th><th>deg</th><th>mas</th><th>mas</th><th>mag</th><th></th><th>mag</th><th></th><th>mag</th><th></th><th>mag</th><th></th><th>mag</th><th></th><th>mag</th><th></th><th>mag</th><th></th><th></th><th></th><th></th><th></th><th></th><th></th><th></th><th></th><th></th><th></th><th></th><th></th><th></th><th></th><th></th><th></th><th></th><th></th><th></th><th></th><th></th><th></th><th></th><th></th><th></th><th></th><th></th><th></th><th></th><th></th><th></th><th></th><th></th><th></th><th></th><th></th><th></th><th></th><th></th><th></th><th></th><th></th><th></th><th></th><th></th><th></th><th></th><th></th><th></th><th></th><th></th><th></th><th></th><th></th><th></th><th></th><th></th><th></th><th></th><th></th><th></th><th></th><th></th><th></th><th></th><th></th><th></th><th></th></tr></thead>\n",
       "<thead><tr><th>str21</th><th>float64</th><th>float64</th><th>float64</th><th>float32</th><th>float32</th><th>float64</th><th>float32</th><th>float64</th><th>float32</th><th>float64</th><th>float32</th><th>float32</th><th>float32</th><th>float32</th><th>float32</th><th>float32</th><th>float32</th><th>float32</th><th>float64</th><th>float64</th><th>float64</th><th>float64</th><th>float64</th><th>float64</th><th>float64</th><th>float64</th><th>float64</th><th>float64</th><th>float64</th><th>float64</th><th>float64</th><th>float64</th><th>float64</th><th>float64</th><th>float64</th><th>float64</th><th>float64</th><th>float64</th><th>float64</th><th>float64</th><th>float64</th><th>float64</th><th>float64</th><th>float64</th><th>float64</th><th>float64</th><th>float64</th><th>float64</th><th>float64</th><th>float64</th><th>float64</th><th>float64</th><th>float64</th><th>float64</th><th>float64</th><th>float64</th><th>float64</th><th>float64</th><th>float64</th><th>float64</th><th>float64</th><th>float64</th><th>float64</th><th>float64</th><th>float64</th><th>float64</th><th>float64</th><th>float64</th><th>float64</th><th>float64</th><th>float64</th><th>float64</th><th>float64</th><th>float64</th><th>float64</th><th>float64</th><th>float64</th><th>float64</th><th>float64</th><th>float64</th><th>float64</th><th>float64</th><th>float64</th><th>float64</th><th>float64</th><th>float64</th></tr></thead>\n",
       "<tr><td>3107142829863485952</td><td>101.76822041702867</td><td>-1.2075151625364267</td><td>0.432227248321794</td><td>0.030997224</td><td>12.621653</td><td>0.0006344411880043353</td><td>12.802992</td><td>0.0020885144822050884</td><td>12.291391</td><td>0.0017593474516210648</td><td>12.72</td><td>0.020</td><td>11.903</td><td>0.023</td><td>11.838</td><td>0.023</td><td>11.8</td><td>0.024</td><td>2190.859619140625</td><td>197.47900390625</td><td>151.5408935546875</td><td>213.5092718420073</td><td>-1.5216790901099373</td><td>1.0972506348348021</td><td>0.2813463101744822</td><td>0.01746006095976571</td><td>-0.17867081801656326</td><td>0.17374130314264136</td><td>0.46938729127948164</td><td>11.524401968314612</td><td>0.018094502147770086</td><td>0.2819807513624877</td><td>1.3107321146267983</td><td>0.3360851498919084</td><td>0.020857096725901858</td><td>-0.21081303389254558</td><td>0.1785924122029794</td><td>0.5255802042911046</td><td>11.492259752438631</td><td>0.022945611208106342</td><td>0.33817366437411245</td><td>0.7576583159506094</td><td>0.19427135861061418</td><td>0.012056279543791626</td><td>-0.16933972960112342</td><td>0.1694624279902861</td><td>0.383437245979227</td><td>11.533733056730055</td><td>0.013815626995413055</td><td>0.1960307060622366</td><td>1.1924453025900386</td><td>0.305755198782921</td><td>0.01897485133607879</td><td>-0.17551782189240583</td><td>0.19462211009462393</td><td>0.5131621964635862</td><td>11.527554964438771</td><td>0.03897530909974911</td><td>0.325755656546594</td><td>0.3091529886603355</td><td>0.07926999527513978</td><td>0.0049194139028371775</td><td>-0.10922589706182606</td><td>0.1835659783864827</td><td>0.2896762986808987</td><td>11.593846889269352</td><td>0.027919177391606098</td><td>0.10226975876391009</td><td>0.18290999329090118</td><td>0.04689999720454216</td><td>0.00291056530898276</td><td>-0.047982482075692445</td><td>0.18155712979262617</td><td>0.2573063006103027</td><td>11.655090304255486</td><td>0.025910328797751347</td><td>0.06989976069331227</td><td>0.11801399567127227</td><td>0.030259998196363436</td><td>0.001877904184431095</td><td>-0.021086591267586385</td><td>0.1815248730259853</td><td>0.2416667059600357</td><td>11.68198619506359</td><td>0.025878072031112254</td><td>0.054260166043041735</td></tr>\n",
       "</table></div>"
      ],
      "text/plain": [
       "<Table length=1>\n",
       "       Source               ra         ...         mKem        \n",
       "                           deg         ...                     \n",
       "       str21             float64       ...       float64       \n",
       "------------------- ------------------ ... --------------------\n",
       "3107142829863485952 101.76822041702867 ... 0.054260166043041735"
      ]
     },
     "execution_count": 8,
     "metadata": {},
     "output_type": "execute_result"
    }
   ],
   "source": [
    "res"
   ]
  },
  {
   "cell_type": "code",
   "execution_count": 9,
   "metadata": {},
   "outputs": [
    {
     "name": "stdout",
     "output_type": "stream",
     "text": [
      "Using Combined19 map from mwdust\n",
      "Querying Gaia DR2 catalog...\n",
      "Downloading Simbad data for all stars...\n",
      "Calculating distances, absolute magnitudes...\n"
     ]
    },
    {
     "data": {
      "application/vnd.jupyter.widget-view+json": {
       "model_id": "40ae1689b5fb4f1faa5179456bb606ab",
       "version_major": 2,
       "version_minor": 0
      },
      "text/plain": [
       "  0%|          | 0/1 [00:00<?, ?it/s]"
      ]
     },
     "metadata": {},
     "output_type": "display_data"
    }
   ],
   "source": [
    "res2 = query_gaia(targets,gaiaDR=2)"
   ]
  },
  {
   "cell_type": "code",
   "execution_count": 11,
   "metadata": {},
   "outputs": [
    {
     "data": {
      "text/html": [
       "<div><i>Table length=1</i>\n",
       "<table id=\"table140655904369552\" class=\"table-striped table-bordered table-condensed\">\n",
       "<thead><tr><th>Source</th><th>ra</th><th>dec</th><th>plx</th><th>sig_plx</th><th>gamag</th><th>sig_gamag</th><th>bpmag</th><th>sig_bpmag</th><th>rpmag</th><th>sig_rpmag</th><th>vmag</th><th>sig_vmag</th><th>jmag</th><th>sig_jmag</th><th>hmag</th><th>sig_hmag</th><th>kmag</th><th>sig_kmag</th><th>dis</th><th>disep</th><th>disem</th><th>lon_deg</th><th>lat_deg</th><th>ag</th><th>agep</th><th>agem</th><th>MG</th><th>MGep</th><th>MGem</th><th>mG</th><th>mGep</th><th>mGem</th><th>aBP</th><th>aBPep</th><th>aBPem</th><th>MBP</th><th>MBPep</th><th>MBPem</th><th>mBP</th><th>mBPep</th><th>mBPem</th><th>aRP</th><th>aRPep</th><th>aRPem</th><th>MRP</th><th>MRPep</th><th>MRPem</th><th>mRP</th><th>mRPep</th><th>mRPem</th><th>aV</th><th>aVep</th><th>aVem</th><th>MV</th><th>MVep</th><th>MVem</th><th>mV</th><th>mVep</th><th>mVem</th><th>aJ</th><th>aJep</th><th>aJem</th><th>MJ</th><th>MJep</th><th>MJem</th><th>mJ</th><th>mJep</th><th>mJem</th><th>aH</th><th>aHep</th><th>aHem</th><th>MH</th><th>MHep</th><th>MHem</th><th>mH</th><th>mHep</th><th>mHem</th><th>aK</th><th>aKep</th><th>aKem</th><th>MK</th><th>MKep</th><th>MKem</th><th>mK</th><th>mKep</th><th>mKem</th></tr></thead>\n",
       "<thead><tr><th></th><th>deg</th><th>deg</th><th>mas</th><th>mas</th><th>mag</th><th></th><th>mag</th><th></th><th>mag</th><th></th><th>mag</th><th></th><th>mag</th><th></th><th>mag</th><th></th><th>mag</th><th></th><th></th><th></th><th></th><th></th><th></th><th></th><th></th><th></th><th></th><th></th><th></th><th></th><th></th><th></th><th></th><th></th><th></th><th></th><th></th><th></th><th></th><th></th><th></th><th></th><th></th><th></th><th></th><th></th><th></th><th></th><th></th><th></th><th></th><th></th><th></th><th></th><th></th><th></th><th></th><th></th><th></th><th></th><th></th><th></th><th></th><th></th><th></th><th></th><th></th><th></th><th></th><th></th><th></th><th></th><th></th><th></th><th></th><th></th><th></th><th></th><th></th><th></th><th></th><th></th><th></th><th></th><th></th><th></th></tr></thead>\n",
       "<thead><tr><th>str21</th><th>float64</th><th>float64</th><th>float64</th><th>float64</th><th>float32</th><th>float64</th><th>float32</th><th>float64</th><th>float32</th><th>float64</th><th>float32</th><th>float32</th><th>float32</th><th>float32</th><th>float32</th><th>float32</th><th>float32</th><th>float32</th><th>float64</th><th>float64</th><th>float64</th><th>float64</th><th>float64</th><th>float64</th><th>float64</th><th>float64</th><th>float64</th><th>float64</th><th>float64</th><th>float64</th><th>float64</th><th>float64</th><th>float64</th><th>float64</th><th>float64</th><th>float64</th><th>float64</th><th>float64</th><th>float64</th><th>float64</th><th>float64</th><th>float64</th><th>float64</th><th>float64</th><th>float64</th><th>float64</th><th>float64</th><th>float64</th><th>float64</th><th>float64</th><th>float64</th><th>float64</th><th>float64</th><th>float64</th><th>float64</th><th>float64</th><th>float64</th><th>float64</th><th>float64</th><th>float64</th><th>float64</th><th>float64</th><th>float64</th><th>float64</th><th>float64</th><th>float64</th><th>float64</th><th>float64</th><th>float64</th><th>float64</th><th>float64</th><th>float64</th><th>float64</th><th>float64</th><th>float64</th><th>float64</th><th>float64</th><th>float64</th><th>float64</th><th>float64</th><th>float64</th><th>float64</th><th>float64</th><th>float64</th><th>float64</th><th>float64</th></tr></thead>\n",
       "<tr><td>3107142829863485952</td><td>101.76822078135328</td><td>-1.207515192087555</td><td>0.2784408581785764</td><td>0.07150647466161306</td><td>12.631575</td><td>0.0009382113738554969</td><td>12.801229</td><td>0.0038396854144956893</td><td>12.298964</td><td>0.002020975902707495</td><td>12.72</td><td>0.020</td><td>11.903</td><td>0.023</td><td>11.838</td><td>0.023</td><td>11.8</td><td>0.024</td><td>3832.632796327963</td><td>1205.1134011340114</td><td>781.2820460204603</td><td>213.50927203436055</td><td>-1.521678779347881</td><td>1.7696987325866222</td><td>0.4122728676707361</td><td>0.2407382729227452</td><td>-2.0556418277891266</td><td>0.7348429400105714</td><td>1.005430029894729</td><td>10.861819577586186</td><td>0.2396506499506046</td><td>0.4117372038317537</td><td>2.1140119571358085</td><td>0.49248482569953156</td><td>0.2875763982466415</td><td>-2.2304442769199397</td><td>0.7812866080966312</td><td>1.0848303808647772</td><td>10.687120093832506</td><td>0.28631905727537976</td><td>0.49173506812071466</td><td>1.221987865765398</td><td>0.2846769522977459</td><td>0.1662312589821069</td><td>-1.8407000304353147</td><td>0.660724716880748</td><td>0.8775676772207697</td><td>11.07694807645693</td><td>0.16551958658712707</td><td>0.28428683795836207</td><td>1.923233282968368</td><td>0.44804061062430733</td><td>0.2616241117450673</td><td>-2.1210607288462935</td><td>0.7566343652693712</td><td>1.0398941209468324</td><td>10.796809821669349</td><td>0.2612950590289671</td><td>0.4473505455900977</td><td>0.4986168472711183</td><td>0.11615886574826562</td><td>0.06782858373119044</td><td>-1.5138191409378114</td><td>0.5639251848339407</td><td>0.7078604952534233</td><td>11.404163447704212</td><td>0.07020757389433818</td><td>0.11018300235435596</td><td>0.2950060569826599</td><td>0.0687252529783482</td><td>0.04013069984852824</td><td>-1.3751904042616552</td><td>0.5365573045018889</td><td>0.6604500211164646</td><td>11.541188201068914</td><td>0.0460037103824984</td><td>0.06204263123418663</td><td>0.19033866277815115</td><td>0.044341709064495</td><td>0.025892430222099444</td><td>-1.3084410644785818</td><td>0.5224782172061465</td><td>0.636526800950777</td><td>11.607118544052254</td><td>0.03606880692052172</td><td>0.04095751794617364</td></tr>\n",
       "</table></div>"
      ],
      "text/plain": [
       "<Table length=1>\n",
       "       Source               ra         ...         mKem       \n",
       "                           deg         ...                    \n",
       "       str21             float64       ...       float64      \n",
       "------------------- ------------------ ... -------------------\n",
       "3107142829863485952 101.76822078135328 ... 0.04095751794617364"
      ]
     },
     "execution_count": 11,
     "metadata": {},
     "output_type": "execute_result"
    }
   ],
   "source": [
    "res2"
   ]
  },
  {
   "cell_type": "code",
   "execution_count": null,
   "metadata": {},
   "outputs": [],
   "source": []
  }
 ],
 "metadata": {
  "kernelspec": {
   "display_name": "seismolab",
   "language": "python",
   "name": "seismolab"
  },
  "language_info": {
   "codemirror_mode": {
    "name": "ipython",
    "version": 3
   },
   "file_extension": ".py",
   "mimetype": "text/x-python",
   "name": "python",
   "nbconvert_exporter": "python",
   "pygments_lexer": "ipython3",
   "version": "3.7.13"
  }
 },
 "nbformat": 4,
 "nbformat_minor": 4
}
